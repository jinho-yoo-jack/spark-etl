{
 "cells": [
  {
   "cell_type": "code",
   "execution_count": 1,
   "metadata": {
    "collapsed": true,
    "ExecuteTime": {
     "end_time": "2023-09-07T05:48:51.704783Z",
     "start_time": "2023-09-07T05:48:51.581536Z"
    }
   },
   "outputs": [],
   "source": [
    "from pyspark.sql import SparkSession"
   ]
  },
  {
   "cell_type": "code",
   "execution_count": 2,
   "outputs": [
    {
     "name": "stderr",
     "output_type": "stream",
     "text": [
      "23/09/07 14:48:53 WARN Utils: Your hostname, yujinhoui-MacBookPro.local resolves to a loopback address: 127.0.0.1, but we couldn't find any external IP address!\n",
      "23/09/07 14:48:53 WARN Utils: Set SPARK_LOCAL_IP if you need to bind to another address\n",
      "Setting default log level to \"WARN\".\n",
      "To adjust logging level use sc.setLogLevel(newLevel). For SparkR, use setLogLevel(newLevel).\n",
      "23/09/07 14:48:53 WARN NativeCodeLoader: Unable to load native-hadoop library for your platform... using builtin-java classes where applicable\n",
      "23/09/07 14:48:54 WARN Utils: Service 'SparkUI' could not bind on port 4040. Attempting port 4041.\n"
     ]
    }
   ],
   "source": [
    "spark = SparkSession \\\n",
    "    .builder \\\n",
    "    .master(\"local\") \\\n",
    "    .appName('kafka2hdfs') \\\n",
    "    .getOrCreate()"
   ],
   "metadata": {
    "collapsed": false,
    "ExecuteTime": {
     "end_time": "2023-09-07T05:48:54.462503Z",
     "start_time": "2023-09-07T05:48:52.396182Z"
    }
   }
  },
  {
   "cell_type": "code",
   "execution_count": 4,
   "outputs": [],
   "source": [
    "from pyspark.sql.types import StructType, StructField, StringType\n"
   ],
   "metadata": {
    "collapsed": false,
    "ExecuteTime": {
     "end_time": "2023-08-01T01:48:22.880762Z",
     "start_time": "2023-08-01T01:48:22.877240Z"
    }
   }
  },
  {
   "cell_type": "code",
   "execution_count": 3,
   "outputs": [
    {
     "name": "stdout",
     "output_type": "stream",
     "text": [
      "root\n",
      " |-- firstname: string (nullable = true)\n",
      " |-- middlename: string (nullable = true)\n",
      " |-- lastname: string (nullable = true)\n",
      " |-- dob: string (nullable = true)\n",
      " |-- gender: string (nullable = true)\n",
      " |-- salary: long (nullable = true)\n"
     ]
    }
   ],
   "source": [
    "data =[(\"James \",\"\",\"Smith\",\"36636\",\"M\",3000),\n",
    "              (\"Michael \",\"Rose\",\"\",\"40288\",\"M\",4000),\n",
    "              (\"Robert \",\"\",\"Williams\",\"42114\",\"M\",4000),\n",
    "              (\"Maria \",\"Anne\",\"Jones\",\"39192\",\"F\",4000),\n",
    "              (\"Jen\",\"Mary\",\"Brown\",\"\",\"F\",-1)]\n",
    "columns=[\"firstname\",\"middlename\",\"lastname\",\"dob\",\"gender\",\"salary\"]\n",
    "df=spark.createDataFrame(data,columns)\n",
    "\n",
    "df.printSchema()"
   ],
   "metadata": {
    "collapsed": false,
    "ExecuteTime": {
     "end_time": "2023-09-07T05:48:59.563452Z",
     "start_time": "2023-09-07T05:48:57.689139Z"
    }
   }
  },
  {
   "cell_type": "code",
   "execution_count": 5,
   "outputs": [
    {
     "name": "stderr",
     "output_type": "stream",
     "text": [
      "                                                                                \r"
     ]
    }
   ],
   "source": [
    "df.write.mode('overwrite').parquet(\"hdfs://localhost:9000/pg_20230907.parquet\")"
   ],
   "metadata": {
    "collapsed": false,
    "ExecuteTime": {
     "end_time": "2023-09-07T05:53:04.339884Z",
     "start_time": "2023-09-07T05:53:01.484711Z"
    }
   }
  },
  {
   "cell_type": "code",
   "execution_count": null,
   "outputs": [],
   "source": [],
   "metadata": {
    "collapsed": false
   }
  },
  {
   "cell_type": "code",
   "execution_count": 15,
   "outputs": [],
   "source": [
    "from pyspark.sql.functions import expr, base64\n",
    "\n",
    "df_encrypted = df\\\n",
    "    .withColumn('SSN_Encrypted', expr(f\"aes_encrypt(SSN, '{super_secret_key}', 'ECB')\"))\\\n",
    "    .withColumn('SSN_Encrypted', base64('SSN_Encrypted'))"
   ],
   "metadata": {
    "collapsed": false,
    "ExecuteTime": {
     "end_time": "2023-08-01T01:59:41.489378Z",
     "start_time": "2023-08-01T01:59:41.448232Z"
    }
   }
  },
  {
   "cell_type": "code",
   "execution_count": 16,
   "outputs": [
    {
     "data": {
      "text/plain": "DataFrame[FirstName: string, LastName: string, SSN: string, SSN_Encrypted: string]"
     },
     "metadata": {},
     "output_type": "display_data"
    }
   ],
   "source": [
    "display(df_encrypted)"
   ],
   "metadata": {
    "collapsed": false,
    "ExecuteTime": {
     "end_time": "2023-08-01T01:59:44.618208Z",
     "start_time": "2023-08-01T01:59:44.611523Z"
    }
   }
  },
  {
   "cell_type": "code",
   "execution_count": 17,
   "outputs": [
    {
     "name": "stderr",
     "output_type": "stream",
     "text": [
      "[Stage 0:>                                                          (0 + 1) / 1]\r"
     ]
    },
    {
     "name": "stdout",
     "output_type": "stream",
     "text": [
      "+---------+--------+-----------+--------------------+\n",
      "|FirstName|LastName|        SSN|       SSN_Encrypted|\n",
      "+---------+--------+-----------+--------------------+\n",
      "|    James|   Smith|111-22-3333|Pt9H19OJlCiGB5pT6...|\n",
      "|  Michael|   Jones|222-33-4444|BTKw0FOfOyN3lKcbf...|\n",
      "|    Maria|    Anne|333-44-5555|R8BmsMLw/na7kS4Jg...|\n",
      "|    James|   Smith|111-22-3333|Pt9H19OJlCiGB5pT6...|\n",
      "+---------+--------+-----------+--------------------+\n"
     ]
    },
    {
     "name": "stderr",
     "output_type": "stream",
     "text": [
      "                                                                                \r"
     ]
    }
   ],
   "source": [
    "df_encrypted.show()"
   ],
   "metadata": {
    "collapsed": false,
    "ExecuteTime": {
     "end_time": "2023-08-01T01:59:53.735820Z",
     "start_time": "2023-08-01T01:59:52.258087Z"
    }
   }
  },
  {
   "cell_type": "code",
   "execution_count": 19,
   "outputs": [
    {
     "name": "stdout",
     "output_type": "stream",
     "text": [
      "+---------+--------+--------------------+-----+\n",
      "|FirstName|LastName|       SSN_Encrypted|count|\n",
      "+---------+--------+--------------------+-----+\n",
      "|    James|   Smith|Pt9H19OJlCiGB5pT6...|    2|\n",
      "|  Michael|   Jones|BTKw0FOfOyN3lKcbf...|    1|\n",
      "|    Maria|    Anne|R8BmsMLw/na7kS4Jg...|    1|\n",
      "+---------+--------+--------------------+-----+\n"
     ]
    }
   ],
   "source": [
    "df_encrypted.groupby('FirstName','LastName','SSN_Encrypted').count().show()"
   ],
   "metadata": {
    "collapsed": false,
    "ExecuteTime": {
     "end_time": "2023-08-01T02:03:00.684328Z",
     "start_time": "2023-08-01T02:03:00.479117Z"
    }
   }
  },
  {
   "cell_type": "code",
   "execution_count": 22,
   "outputs": [],
   "source": [
    "df_encrypted.createOrReplaceTempView(\"TestTable\")"
   ],
   "metadata": {
    "collapsed": false,
    "ExecuteTime": {
     "end_time": "2023-08-01T02:04:53.771540Z",
     "start_time": "2023-08-01T02:04:53.712014Z"
    }
   }
  },
  {
   "cell_type": "code",
   "execution_count": 24,
   "outputs": [
    {
     "name": "stdout",
     "output_type": "stream",
     "text": [
      "+---------+--------+----------+\n",
      "|FirstName|LastName|OrderCount|\n",
      "+---------+--------+----------+\n",
      "|    James|   Smith|         2|\n",
      "|  Michael|   Jones|         1|\n",
      "|    Maria|    Anne|         1|\n",
      "+---------+--------+----------+\n"
     ]
    }
   ],
   "source": [
    "query = 'SELECT FirstName, LastName, count(SSN_Encrypted) AS OrderCount FROM TESTTABLE group by FirstName, LastName, SSN_Encrypted '\n",
    "spark.sql(query).show()"
   ],
   "metadata": {
    "collapsed": false,
    "ExecuteTime": {
     "end_time": "2023-08-01T02:07:14.006148Z",
     "start_time": "2023-08-01T02:07:13.850665Z"
    }
   }
  },
  {
   "cell_type": "code",
   "execution_count": null,
   "outputs": [],
   "source": [
    "\n"
   ],
   "metadata": {
    "collapsed": false
   }
  },
  {
   "cell_type": "code",
   "execution_count": null,
   "outputs": [],
   "source": [],
   "metadata": {
    "collapsed": false
   }
  },
  {
   "cell_type": "code",
   "execution_count": null,
   "outputs": [],
   "source": [],
   "metadata": {
    "collapsed": false
   }
  }
 ],
 "metadata": {
  "kernelspec": {
   "display_name": "Python 3",
   "language": "python",
   "name": "python3"
  },
  "language_info": {
   "codemirror_mode": {
    "name": "ipython",
    "version": 2
   },
   "file_extension": ".py",
   "mimetype": "text/x-python",
   "name": "python",
   "nbconvert_exporter": "python",
   "pygments_lexer": "ipython2",
   "version": "2.7.6"
  }
 },
 "nbformat": 4,
 "nbformat_minor": 0
}
